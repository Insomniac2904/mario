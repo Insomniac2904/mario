{
 "cells": [
  {
   "cell_type": "code",
   "execution_count": 6,
   "metadata": {},
   "outputs": [
    {
     "name": "stdout",
     "output_type": "stream",
     "text": [
      "Extracted Text from the Image:\n",
      "ENJOY SLEDDING FUN\n",
      "WITH YOUR FAMILIES&FRIENDS\n",
      "\n",
      " \n",
      "\f\n"
     ]
    }
   ],
   "source": [
    "import pytesseract\n",
    "from PIL import Image, ImageEnhance, ImageFilter\n",
    "\n",
    "# Load the image\n",
    "image_path = 'test.jpg'\n",
    "image = Image.open(image_path)\n",
    "\n",
    "# Convert the image to grayscale\n",
    "image = image.convert('L')\n",
    "\n",
    "# Enhance sharpness and apply a filter to remove noise\n",
    "image = image.filter(ImageFilter.SHARPEN)\n",
    "image = image.filter(ImageFilter.MedianFilter())\n",
    "image = image.resize((image.width * 2, image.height * 2), Image.ANTIALIAS)\n",
    "\n",
    "# You can also increase contrast if needed\n",
    "enhancer = ImageEnhance.Contrast(image)\n",
    "image = enhancer.enhance(2)\n",
    "\n",
    "# Perform OCR to extract all text\n",
    "extracted_text = pytesseract.image_to_string(image)\n",
    "\n",
    "# Display the extracted text\n",
    "print(\"Extracted Text from the Image:\")\n",
    "print(extracted_text)\n"
   ]
  },
  {
   "cell_type": "code",
   "execution_count": null,
   "metadata": {},
   "outputs": [],
   "source": []
  }
 ],
 "metadata": {
  "kernelspec": {
   "display_name": "base",
   "language": "python",
   "name": "python3"
  },
  "language_info": {
   "codemirror_mode": {
    "name": "ipython",
    "version": 3
   },
   "file_extension": ".py",
   "mimetype": "text/x-python",
   "name": "python",
   "nbconvert_exporter": "python",
   "pygments_lexer": "ipython3",
   "version": "3.11.5"
  }
 },
 "nbformat": 4,
 "nbformat_minor": 2
}
